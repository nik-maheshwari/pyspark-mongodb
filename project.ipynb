{
 "cells": [
  {
   "cell_type": "code",
   "execution_count": 1,
   "metadata": {},
   "outputs": [],
   "source": [
    "from pyspark.sql import SparkSession\n",
    "from pyspark.sql import SQLContext"
   ]
  },
  {
   "cell_type": "code",
   "execution_count": 2,
   "metadata": {},
   "outputs": [],
   "source": [
    "my_spark = SparkSession \\\n",
    "    .builder \\\n",
    "    .appName(\"myApp\") \\\n",
    "    .config('spark.jars.packages','org.mongodb.spark:mongo-spark-connector_2.11:2.2.0' ) \\\n",
    "    .config(\"spark.mongodb.input.uri\", \"mongodb://127.0.0.1/local.nik\") \\\n",
    "    .config(\"spark.mongodb.output.uri\", \"mongodb://127.0.0.1/local.analyses\") \\\n",
    "    .getOrCreate()\n",
    "my_spark2 = SQLContext(my_spark)"
   ]
  },
  {
   "cell_type": "code",
   "execution_count": 3,
   "metadata": {},
   "outputs": [],
   "source": [
    "# read from default source, as defined above under 'input.uri'\n",
    "data = my_spark2.read.format(\"com.mongodb.spark.sql.DefaultSource\").load()"
   ]
  },
  {
   "cell_type": "code",
   "execution_count": 4,
   "metadata": {},
   "outputs": [
    {
     "data": {
      "text/plain": [
       "[Row(_id=Row(oid='5c92c2c73ff4e811a09a0a22'), borough='Southwark', major_category='Burglary', minor_category='Burglary in a Dwelling', month='6', value='2', year='2013'),\n",
       " Row(_id=Row(oid='5c92c2c73ff4e811a09a0a23'), borough='Southwark', major_category='Burglary', minor_category='Burglary in a Dwelling', month='3', value='0', year='2014'),\n",
       " Row(_id=Row(oid='5c92c2c73ff4e811a09a0a24'), borough='Southwark', major_category='Burglary', minor_category='Burglary in a Dwelling', month='6', value='2', year='2015'),\n",
       " Row(_id=Row(oid='5c92c2c73ff4e811a09a0a25'), borough='Southwark', major_category='Burglary', minor_category='Burglary in a Dwelling', month='1', value='1', year='2014'),\n",
       " Row(_id=Row(oid='5c92c2c73ff4e811a09a0a26'), borough='Southwark', major_category='Burglary', minor_category='Burglary in a Dwelling', month='3', value='1', year='2016')]"
      ]
     },
     "execution_count": 4,
     "metadata": {},
     "output_type": "execute_result"
    }
   ],
   "source": [
    "# look at top 5 rows to make sure data is read correctly\n",
    "data.head(5)"
   ]
  },
  {
   "cell_type": "code",
   "execution_count": 5,
   "metadata": {},
   "outputs": [
    {
     "name": "stdout",
     "output_type": "stream",
     "text": [
      "+-------+--------------------+--------------+-------------------+-----------------+------------------+------------------+\n",
      "|summary|             borough|major_category|     minor_category|            month|             value|              year|\n",
      "+-------+--------------------+--------------+-------------------+-----------------+------------------+------------------+\n",
      "|  count|             3286436|       3286436|            3286436|          3286436|           3286436|           3286436|\n",
      "|   mean|                null|          null|               null| 6.49677229716592|0.4774909756684608|2011.9994735869996|\n",
      "| stddev|                null|          null|               null|3.452671524829749| 1.765015745215443|2.5824079990390745|\n",
      "|    min|Barking and Dagenham|      Burglary|Assault with Injury|                1|                 0|              2008|\n",
      "|    max|                null|          null|               null|             null|              null|              null|\n",
      "+-------+--------------------+--------------+-------------------+-----------------+------------------+------------------+\n",
      "\n"
     ]
    }
   ],
   "source": [
    "# get summary of all columns\n",
    "data.describe().show()"
   ]
  },
  {
   "cell_type": "code",
   "execution_count": 6,
   "metadata": {},
   "outputs": [],
   "source": [
    "# Group the data by 'borough' and 'year', get the total count of crime 'value'.\n",
    "# Store the returned dataframe in variable\n",
    "crimeBoroughYear = data.groupBy([ \"borough\", \"year\"]).agg({'value': 'count'})"
   ]
  },
  {
   "cell_type": "code",
   "execution_count": 7,
   "metadata": {},
   "outputs": [
    {
     "data": {
      "text/plain": [
       "[Row(borough='Brent', year='2010', count(value)=16296),\n",
       " Row(borough='Islington', year='2015', count(value)=9214),\n",
       " Row(borough='Lambeth', year='2016', count(value)=11488),\n",
       " Row(borough='Kensington and Chelsea', year='2016', count(value)=9018),\n",
       " Row(borough='Kingston upon Thames', year='2009', count(value)=7890)]"
      ]
     },
     "execution_count": 7,
     "metadata": {},
     "output_type": "execute_result"
    }
   ],
   "source": [
    "crimeBoroughYear.head(5)"
   ]
  },
  {
   "cell_type": "code",
   "execution_count": 8,
   "metadata": {},
   "outputs": [],
   "source": [
    "# write the analysis result to local csv file. It creates a folder of the name\n",
    "# 'analyses.csv' which contains the resulting csv file\n",
    "crimeBoroughYear.repartition(1).write \\\n",
    "  .option(\"header\", \"true\") \\\n",
    "  .csv(\"analyses.csv\")"
   ]
  },
  {
   "cell_type": "code",
   "execution_count": 9,
   "metadata": {},
   "outputs": [],
   "source": [
    "# Group the data by 'year', 'month' and crime 'category', and get the total\n",
    "# count of crime 'value'.\n",
    "crimeYearMonthCat = data.groupBy([ \"year\", \"month\", \"major_category\"]).agg({'value': 'count'})"
   ]
  },
  {
   "cell_type": "code",
   "execution_count": 10,
   "metadata": {},
   "outputs": [],
   "source": [
    "# write the analysis result to local csv file. It creates a folder of the name\n",
    "# 'analyses2.csv' which contains the resulting csv file\n",
    "crimeYearMonthCat.write \\\n",
    "  .option(\"header\", \"true\") \\\n",
    "  .csv(\"analyses2.csv\")"
   ]
  },
  {
   "cell_type": "code",
   "execution_count": 11,
   "metadata": {},
   "outputs": [],
   "source": [
    "# write the analysis result to mongodb, as defined under 'output.uri'\n",
    "crimeBoroughYear.write.format(\"com.mongodb.spark.sql.DefaultSource\").mode(\"append\").save()"
   ]
  },
  {
   "cell_type": "code",
   "execution_count": 12,
   "metadata": {},
   "outputs": [],
   "source": [
    "# stop the spark connection\n",
    "my_spark.stop()"
   ]
  }
 ],
 "metadata": {
  "kernelspec": {
   "display_name": "Python 3",
   "language": "python",
   "name": "python3"
  },
  "language_info": {
   "codemirror_mode": {
    "name": "ipython",
    "version": 3
   },
   "file_extension": ".py",
   "mimetype": "text/x-python",
   "name": "python",
   "nbconvert_exporter": "python",
   "pygments_lexer": "ipython3",
   "version": "3.7.1"
  }
 },
 "nbformat": 4,
 "nbformat_minor": 2
}
